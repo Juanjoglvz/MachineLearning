{
 "cells": [
  {
   "cell_type": "code",
   "execution_count": 7,
   "metadata": {},
   "outputs": [],
   "source": [
    "from sklearn.neighbors import LocalOutlierFactor\n",
    "import pandas as pd\n",
    "import numpy as np\n",
    "from sklearn import preprocessing\n",
    "\n",
    "from pyspark import SparkConf, SparkContext\n",
    "from pyspark.sql import SQLContext\n",
    "\n",
    "sqlCtx = SQLContext(sc)\n",
    "\n",
    "df = sqlCtx.read.load('file:///home/juanjo/Desktop/MachineLearning/data/interim/T2_Labels.csv',\n",
    "                     format='com.databricks.spark.csv', header='true', inferSchema='true')\n",
    "\n"
   ]
  },
  {
   "cell_type": "code",
   "execution_count": 14,
   "metadata": {},
   "outputs": [],
   "source": [
    "drop_list = ['UserID', 'UUID', 'Version', 'TimeStemp']\n",
    "df = df.select([column for column in df.columns if column not in drop_list])"
   ]
  },
  {
   "cell_type": "code",
   "execution_count": 31,
   "metadata": {},
   "outputs": [],
   "source": [
    "percentile = 1\n",
    "n_outliers = len(X_scores[X_scores < np.percentile(X_scores, percentile)])\n",
    "lowest_indices = np.argsort(-X_scores, axis=0)[-1:-1-n_outliers:-1]\n",
    "outliers = df.toPandas().iloc[lowest_indices]\n",
    "\n",
    "outliers = sqlCtx.createDataFrame(outliers)"
   ]
  },
  {
   "cell_type": "code",
   "execution_count": 36,
   "metadata": {},
   "outputs": [],
   "source": [
    "attacks = df.filter(df.labels == 1)\n",
    "outliers = outliers.filter(outliers.labels != 1)\n",
    "\n",
    "outliers = outliers.union(attacks)\n",
    "\n",
    "outliers.write.csv(\"/home/juanjo/Desktop/MachineLearning/data/processed/T2_sample_per1.csv\")"
   ]
  },
  {
   "cell_type": "code",
   "execution_count": 39,
   "metadata": {},
   "outputs": [],
   "source": [
    "####### OUTLIERS + INLIERS : PERCENTILE 1\n",
    "percentile = 0.5\n",
    "n_outliers = len(X_scores[X_scores < np.percentile(X_scores, percentile)])\n",
    "lowest_indices = np.argsort(-X_scores, axis=0)[-1:-1-n_outliers:-1]\n",
    "outliers = df.toPandas().iloc[lowest_indices]\n",
    "outliers = sqlCtx.createDataFrame(outliers)"
   ]
  },
  {
   "cell_type": "code",
   "execution_count": 41,
   "metadata": {},
   "outputs": [],
   "source": [
    "attacks = df.filter(df.labels == 1)\n",
    "outliers = outliers.filter(outliers.labels != 1)\n",
    "outliers = outliers.union(attacks)"
   ]
  },
  {
   "cell_type": "code",
   "execution_count": 49,
   "metadata": {},
   "outputs": [],
   "source": [
    "inliers = df.sample(False, n_outliers/df.count(), 42)\n",
    "inliers = inliers[(inliers['labels'] == 0)]\n",
    "inliers = inliers.filter(inliers.labels == 0)"
   ]
  },
  {
   "cell_type": "code",
   "execution_count": 51,
   "metadata": {},
   "outputs": [],
   "source": [
    "merged = outliers.union(inliers)\n",
    "merged.write.csv(\"/home/juanjo/Desktop/MachineLearning/data/processed/T2_sample_per1_inliers.csv\")"
   ]
  }
 ],
 "metadata": {
  "kernelspec": {
   "display_name": "Python 3",
   "language": "python",
   "name": "python3"
  },
  "language_info": {
   "codemirror_mode": {
    "name": "ipython",
    "version": 3
   },
   "file_extension": ".py",
   "mimetype": "text/x-python",
   "name": "python",
   "nbconvert_exporter": "python",
   "pygments_lexer": "ipython3",
   "version": "3.7.0"
  }
 },
 "nbformat": 4,
 "nbformat_minor": 2
}
